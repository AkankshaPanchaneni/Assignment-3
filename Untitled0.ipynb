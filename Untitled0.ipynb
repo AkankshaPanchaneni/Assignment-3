{
  "nbformat": 4,
  "nbformat_minor": 0,
  "metadata": {
    "colab": {
      "provenance": [],
      "authorship_tag": "ABX9TyP2jbx9isweAS7IB44oaEjw",
      "include_colab_link": true
    },
    "kernelspec": {
      "name": "python3",
      "display_name": "Python 3"
    },
    "language_info": {
      "name": "python"
    }
  },
  "cells": [
    {
      "cell_type": "markdown",
      "metadata": {
        "id": "view-in-github",
        "colab_type": "text"
      },
      "source": [
        "<a href=\"https://colab.research.google.com/github/AkankshaPanchaneni/Assignment-3/blob/main/Untitled0.ipynb\" target=\"_parent\"><img src=\"https://colab.research.google.com/assets/colab-badge.svg\" alt=\"Open In Colab\"/></a>"
      ]
    },
    {
      "cell_type": "code",
      "execution_count": 2,
      "metadata": {
        "colab": {
          "base_uri": "https://localhost:8080/"
        },
        "id": "qaGew6ZIMNj7",
        "outputId": "b4f6df9e-8981-4bb7-ed61-e6855eccde89"
      },
      "outputs": [
        {
          "output_type": "stream",
          "name": "stdout",
          "text": [
            "enter heights2\n",
            "[0.91]\n"
          ]
        }
      ],
      "source": [
        "l=list(map(int,input(\"enter heights\").split()))\n",
        "l1=[round(l[i]/2.2049,2) for i in range(0,len(l))]\n",
        "\n",
        "print(l1)"
      ]
    }
  ]
}