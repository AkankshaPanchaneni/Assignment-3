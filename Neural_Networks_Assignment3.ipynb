{
  "nbformat": 4,
  "nbformat_minor": 0,
  "metadata": {
    "colab": {
      "provenance": [],
      "toc_visible": true
    },
    "kernelspec": {
      "name": "python3",
      "display_name": "Python 3"
    },
    "language_info": {
      "name": "python"
    }
  },
  "cells": [
    {
      "cell_type": "code",
      "execution_count": null,
      "metadata": {
        "colab": {
          "base_uri": "https://localhost:8080/"
        },
        "id": "UHFY4Hw0jah9",
        "outputId": "b27eeb2d-f9cb-4fb5-c89a-47059617b9f6"
      },
      "outputs": [
        {
          "output_type": "stream",
          "name": "stdout",
          "text": [
            "enter number of employees3\n",
            "enter namea\n",
            "enter how many family members4\n",
            "enter salary2500000\n",
            "enter departmentdevops\n",
            "enter nameb\n",
            "enter how many family members2\n",
            "enter salary300000\n",
            "enter departmentIT\n",
            "enter namec\n",
            "enter how many family members2\n",
            "enter salary340000\n",
            "enter departmentTesting\n",
            "enter Full time employees3\n",
            "enter named\n",
            "enter how many family members1\n",
            "enter salary20000\n",
            "enter departmentIt\n",
            "enter namef\n",
            "enter how many family members1\n",
            "enter salary1000000\n",
            "enter departmentIT\n",
            "enter nameg\n",
            "enter how many family members1\n",
            "enter salary223344\n",
            "enter departmentit\n",
            "The total Number of Employees(employee+Fulltime employee): 6\n",
            "the average salary of the all the Employees(employee+Fulltime employee): 2191672.0\n"
          ]
        }
      ],
      "source": [
        "class Employee: \n",
        "  def __init__(self):  #constructor for name,family,salary and Department.\n",
        "        self.name =\"divya\" \n",
        "        self.family =8 \n",
        "        self.salary=67895 \n",
        "        self.department=\"mech\" \n",
        "  def __init__(self,name,family,salary,department): \n",
        "        self.name =name \n",
        "        self.family =family \n",
        "        self.salary=salary \n",
        "        self.department=department \n",
        "        \n",
        "  def count_emp(self,emp1,fullemp1): \n",
        "        print(\"The total Number of Employees(employee+Fulltime employee):\",len(emp1+fullemp1)) #counting number of employees.\n",
        "        \n",
        "  def avg_salary(self,emp1,fullemp1):  #function for calculating the average salaryof all employees.\n",
        "       su=0 \n",
        "       for i in emp1: \n",
        "           su=su+i.salary \n",
        "       for i in fullemp1: \n",
        "            su=su+i.salary \n",
        "       print(\"the average salary of the all the Employees(employee+Fulltime employee):\",su/2) \n",
        "        \n",
        "class Fulltime_Employee(Employee): \n",
        "    pass \n",
        "n=int(input(\"enter number of employees\")) \n",
        "pe=[] \n",
        "for i in range(0,n):  #using for() loop,take the input dynamically.\n",
        "    na=input(\"enter name\") \n",
        "    f=int(input(\"enter how many family members\")) \n",
        "    s=int(input(\"enter salary\")) \n",
        "    d=input(\"enter department\") \n",
        "    obj=Employee(na,f,s,d) \n",
        "    pe.append(obj) \n",
        "full=int(input(\"enter Full time employees\")) \n",
        "fe=[] \n",
        "for i in range(0,full): \n",
        "    na=input(\"enter name\") \n",
        "    f=int(input(\"enter how many family members\")) \n",
        "    s=int(input(\"enter salary\")) \n",
        "    d=input(\"enter department\") \n",
        "    obj=Fulltime_Employee(na,f,s,d) \n",
        "    fe.append(obj) \n",
        "    \n",
        "result=Fulltime_Employee(na,f,s,d)  \n",
        "result.count_emp(pe,fe) #function call\n",
        "result.avg_salary(pe,fe) #function call"
      ]
    },
    {
      "cell_type": "code",
      "source": [
        "import numpy as np #import numpy\n",
        "x = np.arange(1,21,dtype=float) #vector of size 1-20\n",
        "print(\"Vector :\",x) \n",
        "x=x.reshape(4,5) #use reshape() to reshape the array into 4*5 \n",
        "print(\"Then reshape the array to 4 by 5:\",x) \n",
        "def replace(x): \n",
        "    a=x \n",
        "    a[:,np.argmax(x, axis=1)] = 0 \n",
        "    return a \n",
        "result= replace(x) \n",
        "print(\"replace the max in each row by 0 (axis=1):\",result)"
      ],
      "metadata": {
        "id": "RG5WCYNQk79Y",
        "colab": {
          "base_uri": "https://localhost:8080/"
        },
        "outputId": "808838a0-0326-4784-9025-5f6bb6504bdf"
      },
      "execution_count": 7,
      "outputs": [
        {
          "output_type": "stream",
          "name": "stdout",
          "text": [
            "Vector : [ 1.  2.  3.  4.  5.  6.  7.  8.  9. 10. 11. 12. 13. 14. 15. 16. 17. 18.\n",
            " 19. 20.]\n",
            "Then reshape the array to 4 by 5: [[ 1.  2.  3.  4.  5.]\n",
            " [ 6.  7.  8.  9. 10.]\n",
            " [11. 12. 13. 14. 15.]\n",
            " [16. 17. 18. 19. 20.]]\n",
            "replace the max in each row by 0 (axis=1): [[ 1.  2.  3.  4.  0.]\n",
            " [ 6.  7.  8.  9.  0.]\n",
            " [11. 12. 13. 14.  0.]\n",
            " [16. 17. 18. 19.  0.]]\n"
          ]
        }
      ]
    },
    {
      "cell_type": "code",
      "source": [],
      "metadata": {
        "id": "iSAySvaFl-0S"
      },
      "execution_count": null,
      "outputs": []
    }
  ]
}